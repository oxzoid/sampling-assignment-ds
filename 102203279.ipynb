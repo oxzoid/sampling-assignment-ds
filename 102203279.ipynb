{
 "cells": [
  {
   "cell_type": "code",
   "execution_count": 1,
   "metadata": {
    "execution": {
     "iopub.execute_input": "2025-01-19T15:44:47.426678Z",
     "iopub.status.busy": "2025-01-19T15:44:47.426347Z",
     "iopub.status.idle": "2025-01-19T15:44:47.432277Z",
     "shell.execute_reply": "2025-01-19T15:44:47.431078Z",
     "shell.execute_reply.started": "2025-01-19T15:44:47.426655Z"
    },
    "trusted": true
   },
   "outputs": [],
   "source": [
    "import pandas as pd\n",
    "from sklearn.model_selection import train_test_split\n",
    "from sklearn.metrics import accuracy_score\n",
    "from sklearn.linear_model import LogisticRegression\n",
    "from sklearn.ensemble import RandomForestClassifier\n",
    "from sklearn.tree import DecisionTreeClassifier\n",
    "from sklearn.naive_bayes import GaussianNB\n",
    "from sklearn.svm import SVC\n",
    "from imblearn.over_sampling import SMOTE\n",
    "from sklearn.utils import resample\n",
    "import numpy as np"
   ]
  },
  {
   "cell_type": "code",
   "execution_count": 3,
   "metadata": {
    "execution": {
     "iopub.execute_input": "2025-01-19T15:45:22.035995Z",
     "iopub.status.busy": "2025-01-19T15:45:22.035490Z",
     "iopub.status.idle": "2025-01-19T15:45:23.966160Z",
     "shell.execute_reply": "2025-01-19T15:45:23.964988Z",
     "shell.execute_reply.started": "2025-01-19T15:45:22.035965Z"
    },
    "trusted": true
   },
   "outputs": [
    {
     "name": "stderr",
     "output_type": "stream",
     "text": [
      "c:\\Users\\Pranav\\miniconda3\\Lib\\site-packages\\sklearn\\linear_model\\_logistic.py:469: ConvergenceWarning: lbfgs failed to converge (status=1):\n",
      "STOP: TOTAL NO. OF ITERATIONS REACHED LIMIT.\n",
      "\n",
      "Increase the number of iterations (max_iter) or scale the data as shown in:\n",
      "    https://scikit-learn.org/stable/modules/preprocessing.html\n",
      "Please also refer to the documentation for alternative solver options:\n",
      "    https://scikit-learn.org/stable/modules/linear_model.html#logistic-regression\n",
      "  n_iter_i = _check_optimize_result(\n",
      "C:\\Users\\Pranav\\AppData\\Local\\Temp\\ipykernel_6468\\3947068775.py:55: FutureWarning: The behavior of DataFrame concatenation with empty or all-NA entries is deprecated. In a future version, this will no longer exclude empty or all-NA columns when determining the result dtypes. To retain the old behavior, exclude the relevant entries before the concat operation.\n",
      "  results_table = pd.concat([results_table, pd.DataFrame([{\"Sample\": sample_key, \"Model\": model_key, \"Accuracy\": model_accuracy}])], ignore_index=True)\n",
      "c:\\Users\\Pranav\\miniconda3\\Lib\\site-packages\\sklearn\\linear_model\\_logistic.py:469: ConvergenceWarning: lbfgs failed to converge (status=1):\n",
      "STOP: TOTAL NO. OF ITERATIONS REACHED LIMIT.\n",
      "\n",
      "Increase the number of iterations (max_iter) or scale the data as shown in:\n",
      "    https://scikit-learn.org/stable/modules/preprocessing.html\n",
      "Please also refer to the documentation for alternative solver options:\n",
      "    https://scikit-learn.org/stable/modules/linear_model.html#logistic-regression\n",
      "  n_iter_i = _check_optimize_result(\n",
      "c:\\Users\\Pranav\\miniconda3\\Lib\\site-packages\\sklearn\\linear_model\\_logistic.py:469: ConvergenceWarning: lbfgs failed to converge (status=1):\n",
      "STOP: TOTAL NO. OF ITERATIONS REACHED LIMIT.\n",
      "\n",
      "Increase the number of iterations (max_iter) or scale the data as shown in:\n",
      "    https://scikit-learn.org/stable/modules/preprocessing.html\n",
      "Please also refer to the documentation for alternative solver options:\n",
      "    https://scikit-learn.org/stable/modules/linear_model.html#logistic-regression\n",
      "  n_iter_i = _check_optimize_result(\n",
      "c:\\Users\\Pranav\\miniconda3\\Lib\\site-packages\\sklearn\\linear_model\\_logistic.py:469: ConvergenceWarning: lbfgs failed to converge (status=1):\n",
      "STOP: TOTAL NO. OF ITERATIONS REACHED LIMIT.\n",
      "\n",
      "Increase the number of iterations (max_iter) or scale the data as shown in:\n",
      "    https://scikit-learn.org/stable/modules/preprocessing.html\n",
      "Please also refer to the documentation for alternative solver options:\n",
      "    https://scikit-learn.org/stable/modules/linear_model.html#logistic-regression\n",
      "  n_iter_i = _check_optimize_result(\n",
      "c:\\Users\\Pranav\\miniconda3\\Lib\\site-packages\\sklearn\\linear_model\\_logistic.py:469: ConvergenceWarning: lbfgs failed to converge (status=1):\n",
      "STOP: TOTAL NO. OF ITERATIONS REACHED LIMIT.\n",
      "\n",
      "Increase the number of iterations (max_iter) or scale the data as shown in:\n",
      "    https://scikit-learn.org/stable/modules/preprocessing.html\n",
      "Please also refer to the documentation for alternative solver options:\n",
      "    https://scikit-learn.org/stable/modules/linear_model.html#logistic-regression\n",
      "  n_iter_i = _check_optimize_result(\n"
     ]
    },
    {
     "name": "stdout",
     "output_type": "stream",
     "text": [
      "      Sample                   Model  Accuracy\n",
      "0   Sample_1     Logistic_Regression  0.903226\n",
      "1   Sample_1           Random_Forest  0.967742\n",
      "2   Sample_1           Decision_Tree  0.903226\n",
      "3   Sample_1             Gaussian_NB  0.903226\n",
      "4   Sample_1  Support_Vector_Machine  0.709677\n",
      "5   Sample_2     Logistic_Regression  0.950820\n",
      "6   Sample_2           Random_Forest  1.000000\n",
      "7   Sample_2           Decision_Tree  0.967213\n",
      "8   Sample_2             Gaussian_NB  0.803279\n",
      "9   Sample_2  Support_Vector_Machine  0.639344\n",
      "10  Sample_3     Logistic_Regression  0.920561\n",
      "11  Sample_3           Random_Forest  1.000000\n",
      "12  Sample_3           Decision_Tree  0.976636\n",
      "13  Sample_3             Gaussian_NB  0.789720\n",
      "14  Sample_3  Support_Vector_Machine  0.700935\n",
      "15  Sample_4     Logistic_Regression  0.909836\n",
      "16  Sample_4           Random_Forest  0.983607\n",
      "17  Sample_4           Decision_Tree  0.967213\n",
      "18  Sample_4             Gaussian_NB  0.770492\n",
      "19  Sample_4  Support_Vector_Machine  0.598361\n",
      "20  Sample_5     Logistic_Regression  0.921569\n",
      "21  Sample_5           Random_Forest  0.993464\n",
      "22  Sample_5           Decision_Tree  0.954248\n",
      "23  Sample_5             Gaussian_NB  0.797386\n",
      "24  Sample_5  Support_Vector_Machine  0.666667\n"
     ]
    }
   ],
   "source": [
    "url_path = \"Creditcard_data.csv\"\n",
    "\n",
    "# Load dataset using pandas\n",
    "data_frame = pd.read_csv(url_path)\n",
    "\n",
    "# Separate features and target column\n",
    "features = data_frame.drop(columns=[\"Class\"])\n",
    "target = data_frame[\"Class\"]\n",
    "\n",
    "# Apply SMOTE for balancing the dataset\n",
    "smote_handler = SMOTE(random_state=42)\n",
    "features_balanced, target_balanced = smote_handler.fit_resample(features, target)\n",
    "\n",
    "# Define sampling functions\n",
    "def random_sampling_method(features_set, target_set, sample_size):\n",
    "    return resample(features_set, target_set, n_samples=sample_size, random_state=42)\n",
    "\n",
    "def stratified_sampling_method(features_set, target_set, sample_size):\n",
    "    from sklearn.model_selection import StratifiedShuffleSplit\n",
    "    stratified_splitter = StratifiedShuffleSplit(n_splits=1, test_size=sample_size / len(target_set), random_state=42)\n",
    "    for train_indices, _ in stratified_splitter.split(features_set, target_set):\n",
    "        return features_set.iloc[train_indices], target_set.iloc[train_indices]\n",
    "\n",
    "# Define sample sizes\n",
    "sample_fractions = [int(len(features_balanced) * 0.1 * i) for i in range(1, 6)]\n",
    "\n",
    "# Create sampled datasets\n",
    "sampled_sets = {\n",
    "    \"Sample_1\": random_sampling_method(features_balanced, target_balanced, sample_fractions[0]),\n",
    "    \"Sample_2\": random_sampling_method(features_balanced, target_balanced, sample_fractions[1]),\n",
    "    \"Sample_3\": stratified_sampling_method(features_balanced, target_balanced, sample_fractions[2]),\n",
    "    \"Sample_4\": random_sampling_method(features_balanced, target_balanced, sample_fractions[3]),\n",
    "    \"Sample_5\": stratified_sampling_method(features_balanced, target_balanced, sample_fractions[4]),\n",
    "}\n",
    "\n",
    "# Define machine learning models\n",
    "ml_models = {\n",
    "    \"Logistic_Regression\": LogisticRegression(),\n",
    "    \"Random_Forest\": RandomForestClassifier(),\n",
    "    \"Decision_Tree\": DecisionTreeClassifier(),\n",
    "    \"Gaussian_NB\": GaussianNB(),\n",
    "    \"Support_Vector_Machine\": SVC()\n",
    "}\n",
    "\n",
    "# Create a DataFrame to store results\n",
    "results_table = pd.DataFrame(columns=[\"Sample\", \"Model\", \"Accuracy\"])\n",
    "\n",
    "# Train and evaluate models\n",
    "for sample_key, (X_sample, y_sample) in sampled_sets.items():\n",
    "    X_train, X_test, y_train, y_test = train_test_split(X_sample, y_sample, test_size=0.2, random_state=42)\n",
    "    for model_key, model_instance in ml_models.items():\n",
    "        model_instance.fit(X_train, y_train)\n",
    "        y_predictions = model_instance.predict(X_test)\n",
    "        model_accuracy = accuracy_score(y_test, y_predictions)\n",
    "        results_table = pd.concat([results_table, pd.DataFrame([{\"Sample\": sample_key, \"Model\": model_key, \"Accuracy\": model_accuracy}])], ignore_index=True)\n",
    "\n",
    "# Print the results\n",
    "print(results_table)\n",
    "\n",
    "# Save the results to a CSV file\n",
    "results_table.to_csv(\"results_summary.csv\", index=False)\n"
   ]
  }
 ],
 "metadata": {
  "kaggle": {
   "accelerator": "none",
   "dataSources": [
    {
     "datasetId": 6509655,
     "sourceId": 10516722,
     "sourceType": "datasetVersion"
    }
   ],
   "dockerImageVersionId": 30839,
   "isGpuEnabled": false,
   "isInternetEnabled": false,
   "language": "python",
   "sourceType": "notebook"
  },
  "kernelspec": {
   "display_name": "base",
   "language": "python",
   "name": "python3"
  },
  "language_info": {
   "codemirror_mode": {
    "name": "ipython",
    "version": 3
   },
   "file_extension": ".py",
   "mimetype": "text/x-python",
   "name": "python",
   "nbconvert_exporter": "python",
   "pygments_lexer": "ipython3",
   "version": "3.12.3"
  }
 },
 "nbformat": 4,
 "nbformat_minor": 4
}
